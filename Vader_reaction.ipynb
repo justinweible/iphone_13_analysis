{
 "cells": [
  {
   "cell_type": "code",
   "execution_count": 1,
   "source": [
    "import pandas as pd\r\n",
    "import nltk\r\n",
    "#nltk.download('vader_lexicon')\r\n",
    "from nltk.sentiment.vader import SentimentIntensityAnalyzer\r\n",
    "analyzer = SentimentIntensityAnalyzer()\r\n",
    "import re\r\n",
    "from textblob import TextBlob\r\n",
    "import matplotlib.pyplot as plt\r\n",
    "%matplotlib inline\r\n",
    "import seaborn as sns\r\n",
    "from sklearn.preprocessing import MinMaxScaler"
   ],
   "outputs": [],
   "metadata": {}
  },
  {
   "cell_type": "code",
   "execution_count": 2,
   "source": [
    "df = pd.read_csv('csv/cleaned_csv/iPhoneTweetsReaction_cleaned.csv').drop(['Unnamed: 0'],axis=1)"
   ],
   "outputs": [],
   "metadata": {}
  },
  {
   "cell_type": "code",
   "execution_count": 3,
   "source": [
    "df.info()"
   ],
   "outputs": [
    {
     "output_type": "stream",
     "name": "stdout",
     "text": [
      "<class 'pandas.core.frame.DataFrame'>\n",
      "RangeIndex: 9801 entries, 0 to 9800\n",
      "Data columns (total 3 columns):\n",
      " #   Column       Non-Null Count  Dtype \n",
      "---  ------       --------------  ----- \n",
      " 0   id           9801 non-null   object\n",
      " 1   tweet        9801 non-null   object\n",
      " 2   clean_tweet  9671 non-null   object\n",
      "dtypes: object(3)\n",
      "memory usage: 229.8+ KB\n"
     ]
    }
   ],
   "metadata": {}
  },
  {
   "cell_type": "code",
   "execution_count": 4,
   "source": [
    "df.isna().sum()"
   ],
   "outputs": [
    {
     "output_type": "execute_result",
     "data": {
      "text/plain": [
       "id               0\n",
       "tweet            0\n",
       "clean_tweet    130\n",
       "dtype: int64"
      ]
     },
     "metadata": {},
     "execution_count": 4
    }
   ],
   "metadata": {}
  },
  {
   "cell_type": "code",
   "execution_count": 5,
   "source": [
    "df.info()"
   ],
   "outputs": [
    {
     "output_type": "stream",
     "name": "stdout",
     "text": [
      "<class 'pandas.core.frame.DataFrame'>\n",
      "RangeIndex: 9801 entries, 0 to 9800\n",
      "Data columns (total 3 columns):\n",
      " #   Column       Non-Null Count  Dtype \n",
      "---  ------       --------------  ----- \n",
      " 0   id           9801 non-null   object\n",
      " 1   tweet        9801 non-null   object\n",
      " 2   clean_tweet  9671 non-null   object\n",
      "dtypes: object(3)\n",
      "memory usage: 229.8+ KB\n"
     ]
    }
   ],
   "metadata": {}
  },
  {
   "cell_type": "code",
   "execution_count": 6,
   "source": [
    "analyzer = SentimentIntensityAnalyzer()\r\n",
    "\r\n",
    "scores = []\r\n",
    "for sentence in df['tweet']:\r\n",
    "  score = analyzer.polarity_scores(sentence)\r\n",
    "  scores.append(score)\r\n",
    "  \r\n",
    "scores = pd.DataFrame(scores)\r\n",
    "\r\n",
    "df['Compound'] = scores['compound']\r\n",
    "df['Negative'] = scores['neg']\r\n",
    "df['Neutral'] = scores['neu']\r\n",
    "df['Positive'] = scores['pos']\r\n",
    "df.head()"
   ],
   "outputs": [
    {
     "output_type": "execute_result",
     "data": {
      "text/html": [
       "<div>\n",
       "<style scoped>\n",
       "    .dataframe tbody tr th:only-of-type {\n",
       "        vertical-align: middle;\n",
       "    }\n",
       "\n",
       "    .dataframe tbody tr th {\n",
       "        vertical-align: top;\n",
       "    }\n",
       "\n",
       "    .dataframe thead th {\n",
       "        text-align: right;\n",
       "    }\n",
       "</style>\n",
       "<table border=\"1\" class=\"dataframe\">\n",
       "  <thead>\n",
       "    <tr style=\"text-align: right;\">\n",
       "      <th></th>\n",
       "      <th>id</th>\n",
       "      <th>tweet</th>\n",
       "      <th>clean_tweet</th>\n",
       "      <th>Compound</th>\n",
       "      <th>Negative</th>\n",
       "      <th>Neutral</th>\n",
       "      <th>Positive</th>\n",
       "    </tr>\n",
       "  </thead>\n",
       "  <tbody>\n",
       "    <tr>\n",
       "      <th>0</th>\n",
       "      <td>1441435385154850817</td>\n",
       "      <td>Macro shot of the MagSafe Wallet on the iPhone...</td>\n",
       "      <td>macro shot magsafe wallet  pro max super impress</td>\n",
       "      <td>0.7906</td>\n",
       "      <td>0.0</td>\n",
       "      <td>0.682</td>\n",
       "      <td>0.318</td>\n",
       "    </tr>\n",
       "    <tr>\n",
       "      <th>1</th>\n",
       "      <td>1441435374979588099</td>\n",
       "      <td>My iPhone 13 needs to hurry up cuz I don’t wan...</td>\n",
       "      <td>need hurry cuz wan na facetime</td>\n",
       "      <td>0.0000</td>\n",
       "      <td>0.0</td>\n",
       "      <td>1.000</td>\n",
       "      <td>0.000</td>\n",
       "    </tr>\n",
       "    <tr>\n",
       "      <th>2</th>\n",
       "      <td>1441435367408865281</td>\n",
       "      <td>The iPhone 13 Mini still gets slower MagSafe c...</td>\n",
       "      <td>mini still get slow magsafe charging speed</td>\n",
       "      <td>0.0000</td>\n",
       "      <td>0.0</td>\n",
       "      <td>1.000</td>\n",
       "      <td>0.000</td>\n",
       "    </tr>\n",
       "    <tr>\n",
       "      <th>3</th>\n",
       "      <td>1441435367245287431</td>\n",
       "      <td>@ATTexplore hope i win this new iPhone 13 befo...</td>\n",
       "      <td>attexplore hope win new  christmas time</td>\n",
       "      <td>0.7717</td>\n",
       "      <td>0.0</td>\n",
       "      <td>0.717</td>\n",
       "      <td>0.283</td>\n",
       "    </tr>\n",
       "    <tr>\n",
       "      <th>4</th>\n",
       "      <td>1441435349482291203</td>\n",
       "      <td>TG 13 iPhone 13 Giveaway!!!  https://t.co/QOMG...</td>\n",
       "      <td>tg  giveaway</td>\n",
       "      <td>0.0000</td>\n",
       "      <td>0.0</td>\n",
       "      <td>1.000</td>\n",
       "      <td>0.000</td>\n",
       "    </tr>\n",
       "  </tbody>\n",
       "</table>\n",
       "</div>"
      ],
      "text/plain": [
       "                    id                                              tweet  \\\n",
       "0  1441435385154850817  Macro shot of the MagSafe Wallet on the iPhone...   \n",
       "1  1441435374979588099  My iPhone 13 needs to hurry up cuz I don’t wan...   \n",
       "2  1441435367408865281  The iPhone 13 Mini still gets slower MagSafe c...   \n",
       "3  1441435367245287431  @ATTexplore hope i win this new iPhone 13 befo...   \n",
       "4  1441435349482291203  TG 13 iPhone 13 Giveaway!!!  https://t.co/QOMG...   \n",
       "\n",
       "                                        clean_tweet  Compound  Negative  \\\n",
       "0  macro shot magsafe wallet  pro max super impress    0.7906       0.0   \n",
       "1                    need hurry cuz wan na facetime    0.0000       0.0   \n",
       "2        mini still get slow magsafe charging speed    0.0000       0.0   \n",
       "3           attexplore hope win new  christmas time    0.7717       0.0   \n",
       "4                                      tg  giveaway    0.0000       0.0   \n",
       "\n",
       "   Neutral  Positive  \n",
       "0    0.682     0.318  \n",
       "1    1.000     0.000  \n",
       "2    1.000     0.000  \n",
       "3    0.717     0.283  \n",
       "4    1.000     0.000  "
      ]
     },
     "metadata": {},
     "execution_count": 6
    }
   ],
   "metadata": {}
  },
  {
   "cell_type": "code",
   "execution_count": 7,
   "source": [
    "sentiment = []\r\n",
    "\r\n",
    "for i in range(len(df)):\r\n",
    "  if (df['Compound'][i] < 0):\r\n",
    "    sentiment.append(\"Negative\")\r\n",
    "  elif (df['Compound'][i] > 0):\r\n",
    "    sentiment.append(\"Positive\")\r\n",
    "  else:\r\n",
    "    sentiment.append(\"Neutral\")\r\n",
    "    \r\n",
    "sentiment = pd.DataFrame(sentiment)\r\n",
    "df['Sentiment'] = sentiment\r\n",
    "df.head()"
   ],
   "outputs": [
    {
     "output_type": "execute_result",
     "data": {
      "text/html": [
       "<div>\n",
       "<style scoped>\n",
       "    .dataframe tbody tr th:only-of-type {\n",
       "        vertical-align: middle;\n",
       "    }\n",
       "\n",
       "    .dataframe tbody tr th {\n",
       "        vertical-align: top;\n",
       "    }\n",
       "\n",
       "    .dataframe thead th {\n",
       "        text-align: right;\n",
       "    }\n",
       "</style>\n",
       "<table border=\"1\" class=\"dataframe\">\n",
       "  <thead>\n",
       "    <tr style=\"text-align: right;\">\n",
       "      <th></th>\n",
       "      <th>id</th>\n",
       "      <th>tweet</th>\n",
       "      <th>clean_tweet</th>\n",
       "      <th>Compound</th>\n",
       "      <th>Negative</th>\n",
       "      <th>Neutral</th>\n",
       "      <th>Positive</th>\n",
       "      <th>Sentiment</th>\n",
       "    </tr>\n",
       "  </thead>\n",
       "  <tbody>\n",
       "    <tr>\n",
       "      <th>0</th>\n",
       "      <td>1441435385154850817</td>\n",
       "      <td>Macro shot of the MagSafe Wallet on the iPhone...</td>\n",
       "      <td>macro shot magsafe wallet  pro max super impress</td>\n",
       "      <td>0.7906</td>\n",
       "      <td>0.0</td>\n",
       "      <td>0.682</td>\n",
       "      <td>0.318</td>\n",
       "      <td>Positive</td>\n",
       "    </tr>\n",
       "    <tr>\n",
       "      <th>1</th>\n",
       "      <td>1441435374979588099</td>\n",
       "      <td>My iPhone 13 needs to hurry up cuz I don’t wan...</td>\n",
       "      <td>need hurry cuz wan na facetime</td>\n",
       "      <td>0.0000</td>\n",
       "      <td>0.0</td>\n",
       "      <td>1.000</td>\n",
       "      <td>0.000</td>\n",
       "      <td>Neutral</td>\n",
       "    </tr>\n",
       "    <tr>\n",
       "      <th>2</th>\n",
       "      <td>1441435367408865281</td>\n",
       "      <td>The iPhone 13 Mini still gets slower MagSafe c...</td>\n",
       "      <td>mini still get slow magsafe charging speed</td>\n",
       "      <td>0.0000</td>\n",
       "      <td>0.0</td>\n",
       "      <td>1.000</td>\n",
       "      <td>0.000</td>\n",
       "      <td>Neutral</td>\n",
       "    </tr>\n",
       "    <tr>\n",
       "      <th>3</th>\n",
       "      <td>1441435367245287431</td>\n",
       "      <td>@ATTexplore hope i win this new iPhone 13 befo...</td>\n",
       "      <td>attexplore hope win new  christmas time</td>\n",
       "      <td>0.7717</td>\n",
       "      <td>0.0</td>\n",
       "      <td>0.717</td>\n",
       "      <td>0.283</td>\n",
       "      <td>Positive</td>\n",
       "    </tr>\n",
       "    <tr>\n",
       "      <th>4</th>\n",
       "      <td>1441435349482291203</td>\n",
       "      <td>TG 13 iPhone 13 Giveaway!!!  https://t.co/QOMG...</td>\n",
       "      <td>tg  giveaway</td>\n",
       "      <td>0.0000</td>\n",
       "      <td>0.0</td>\n",
       "      <td>1.000</td>\n",
       "      <td>0.000</td>\n",
       "      <td>Neutral</td>\n",
       "    </tr>\n",
       "  </tbody>\n",
       "</table>\n",
       "</div>"
      ],
      "text/plain": [
       "                    id                                              tweet  \\\n",
       "0  1441435385154850817  Macro shot of the MagSafe Wallet on the iPhone...   \n",
       "1  1441435374979588099  My iPhone 13 needs to hurry up cuz I don’t wan...   \n",
       "2  1441435367408865281  The iPhone 13 Mini still gets slower MagSafe c...   \n",
       "3  1441435367245287431  @ATTexplore hope i win this new iPhone 13 befo...   \n",
       "4  1441435349482291203  TG 13 iPhone 13 Giveaway!!!  https://t.co/QOMG...   \n",
       "\n",
       "                                        clean_tweet  Compound  Negative  \\\n",
       "0  macro shot magsafe wallet  pro max super impress    0.7906       0.0   \n",
       "1                    need hurry cuz wan na facetime    0.0000       0.0   \n",
       "2        mini still get slow magsafe charging speed    0.0000       0.0   \n",
       "3           attexplore hope win new  christmas time    0.7717       0.0   \n",
       "4                                      tg  giveaway    0.0000       0.0   \n",
       "\n",
       "   Neutral  Positive Sentiment  \n",
       "0    0.682     0.318  Positive  \n",
       "1    1.000     0.000   Neutral  \n",
       "2    1.000     0.000   Neutral  \n",
       "3    0.717     0.283  Positive  \n",
       "4    1.000     0.000   Neutral  "
      ]
     },
     "metadata": {},
     "execution_count": 7
    }
   ],
   "metadata": {}
  },
  {
   "cell_type": "code",
   "execution_count": null,
   "source": [],
   "outputs": [],
   "metadata": {}
  },
  {
   "cell_type": "code",
   "execution_count": null,
   "source": [],
   "outputs": [],
   "metadata": {}
  }
 ],
 "metadata": {
  "orig_nbformat": 4,
  "language_info": {
   "name": "python",
   "version": "3.8.8",
   "mimetype": "text/x-python",
   "codemirror_mode": {
    "name": "ipython",
    "version": 3
   },
   "pygments_lexer": "ipython3",
   "nbconvert_exporter": "python",
   "file_extension": ".py"
  },
  "kernelspec": {
   "name": "python3",
   "display_name": "Python 3.8.8 64-bit ('base': conda)"
  },
  "interpreter": {
   "hash": "89604f32a09a23093b8c29c6d78b3ad49d7a5901c07f2c5c9e08432c33627854"
  }
 },
 "nbformat": 4,
 "nbformat_minor": 2
}