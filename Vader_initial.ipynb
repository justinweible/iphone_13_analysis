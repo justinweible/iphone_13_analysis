{
 "cells": [
  {
   "cell_type": "code",
   "execution_count": 1,
   "source": [
    "import pandas as pd\r\n",
    "import nltk\r\n",
    "#nltk.download('vader_lexicon')\r\n",
    "from nltk.sentiment.vader import SentimentIntensityAnalyzer\r\n",
    "analyzer = SentimentIntensityAnalyzer()\r\n",
    "import re\r\n",
    "from textblob import TextBlob\r\n",
    "import matplotlib.pyplot as plt\r\n",
    "%matplotlib inline\r\n",
    "import seaborn as sns\r\n",
    "from sklearn.preprocessing import MinMaxScaler"
   ],
   "outputs": [],
   "metadata": {}
  },
  {
   "cell_type": "code",
   "execution_count": 5,
   "source": [
    "df = pd.read_csv('csv/cleaned_csv/iPhoneTweetsInitial_cleaned.csv').drop(['Unnamed: 0'],axis=1)"
   ],
   "outputs": [],
   "metadata": {}
  },
  {
   "cell_type": "code",
   "execution_count": 6,
   "source": [
    "df.info()"
   ],
   "outputs": [
    {
     "output_type": "stream",
     "name": "stdout",
     "text": [
      "<class 'pandas.core.frame.DataFrame'>\n",
      "RangeIndex: 13737 entries, 0 to 13736\n",
      "Data columns (total 3 columns):\n",
      " #   Column       Non-Null Count  Dtype \n",
      "---  ------       --------------  ----- \n",
      " 0   id           13737 non-null  object\n",
      " 1   tweet        13737 non-null  object\n",
      " 2   clean_tweet  13554 non-null  object\n",
      "dtypes: object(3)\n",
      "memory usage: 322.1+ KB\n"
     ]
    }
   ],
   "metadata": {}
  },
  {
   "cell_type": "code",
   "execution_count": 7,
   "source": [
    "df.isna().sum()"
   ],
   "outputs": [
    {
     "output_type": "execute_result",
     "data": {
      "text/plain": [
       "id               0\n",
       "tweet            0\n",
       "clean_tweet    183\n",
       "dtype: int64"
      ]
     },
     "metadata": {},
     "execution_count": 7
    }
   ],
   "metadata": {}
  },
  {
   "cell_type": "code",
   "execution_count": 8,
   "source": [
    "df.info()"
   ],
   "outputs": [
    {
     "output_type": "stream",
     "name": "stdout",
     "text": [
      "<class 'pandas.core.frame.DataFrame'>\n",
      "RangeIndex: 13737 entries, 0 to 13736\n",
      "Data columns (total 3 columns):\n",
      " #   Column       Non-Null Count  Dtype \n",
      "---  ------       --------------  ----- \n",
      " 0   id           13737 non-null  object\n",
      " 1   tweet        13737 non-null  object\n",
      " 2   clean_tweet  13554 non-null  object\n",
      "dtypes: object(3)\n",
      "memory usage: 322.1+ KB\n"
     ]
    }
   ],
   "metadata": {}
  },
  {
   "cell_type": "code",
   "execution_count": 9,
   "source": [
    "analyzer = SentimentIntensityAnalyzer()\r\n",
    "\r\n",
    "scores = []\r\n",
    "for sentence in df['tweet']:\r\n",
    "  score = analyzer.polarity_scores(sentence)\r\n",
    "  scores.append(score)\r\n",
    "  \r\n",
    "scores = pd.DataFrame(scores)\r\n",
    "\r\n",
    "df['Compound'] = scores['compound']\r\n",
    "df['Negative'] = scores['neg']\r\n",
    "df['Neutral'] = scores['neu']\r\n",
    "df['Positive'] = scores['pos']\r\n",
    "df.head()"
   ],
   "outputs": [
    {
     "output_type": "execute_result",
     "data": {
      "text/html": [
       "<div>\n",
       "<style scoped>\n",
       "    .dataframe tbody tr th:only-of-type {\n",
       "        vertical-align: middle;\n",
       "    }\n",
       "\n",
       "    .dataframe tbody tr th {\n",
       "        vertical-align: top;\n",
       "    }\n",
       "\n",
       "    .dataframe thead th {\n",
       "        text-align: right;\n",
       "    }\n",
       "</style>\n",
       "<table border=\"1\" class=\"dataframe\">\n",
       "  <thead>\n",
       "    <tr style=\"text-align: right;\">\n",
       "      <th></th>\n",
       "      <th>id</th>\n",
       "      <th>tweet</th>\n",
       "      <th>clean_tweet</th>\n",
       "      <th>Compound</th>\n",
       "      <th>Negative</th>\n",
       "      <th>Neutral</th>\n",
       "      <th>Positive</th>\n",
       "    </tr>\n",
       "  </thead>\n",
       "  <tbody>\n",
       "    <tr>\n",
       "      <th>0</th>\n",
       "      <td>1438205036262268939</td>\n",
       "      <td>iPhone 13😑😑I expected more</td>\n",
       "      <td>expect</td>\n",
       "      <td>0.0000</td>\n",
       "      <td>0.000</td>\n",
       "      <td>1.000</td>\n",
       "      <td>0.000</td>\n",
       "    </tr>\n",
       "    <tr>\n",
       "      <th>1</th>\n",
       "      <td>1438204990389211139</td>\n",
       "      <td>@abbietayo You too pretty to be stressed. How ...</td>\n",
       "      <td>abbietayo pretty stress much  btw</td>\n",
       "      <td>0.2714</td>\n",
       "      <td>0.142</td>\n",
       "      <td>0.651</td>\n",
       "      <td>0.207</td>\n",
       "    </tr>\n",
       "    <tr>\n",
       "      <th>2</th>\n",
       "      <td>1438204983892013056</td>\n",
       "      <td>iPhone 13 versus iPhone 12 performance compari...</td>\n",
       "      <td>versus  performance comparison miss keynote</td>\n",
       "      <td>-0.2960</td>\n",
       "      <td>0.180</td>\n",
       "      <td>0.820</td>\n",
       "      <td>0.000</td>\n",
       "    </tr>\n",
       "    <tr>\n",
       "      <th>3</th>\n",
       "      <td>1438204964669513728</td>\n",
       "      <td>@macworld iPhone 13 NEEDED Touch ID!</td>\n",
       "      <td>macworld  need touch id</td>\n",
       "      <td>0.0000</td>\n",
       "      <td>0.000</td>\n",
       "      <td>1.000</td>\n",
       "      <td>0.000</td>\n",
       "    </tr>\n",
       "    <tr>\n",
       "      <th>4</th>\n",
       "      <td>1438204931094106113</td>\n",
       "      <td>Apple launched the new iPhone 13 mini on 14th ...</td>\n",
       "      <td>launch new  mini th september california even...</td>\n",
       "      <td>0.1280</td>\n",
       "      <td>0.000</td>\n",
       "      <td>0.939</td>\n",
       "      <td>0.061</td>\n",
       "    </tr>\n",
       "  </tbody>\n",
       "</table>\n",
       "</div>"
      ],
      "text/plain": [
       "                    id                                              tweet  \\\n",
       "0  1438205036262268939                         iPhone 13😑😑I expected more   \n",
       "1  1438204990389211139  @abbietayo You too pretty to be stressed. How ...   \n",
       "2  1438204983892013056  iPhone 13 versus iPhone 12 performance compari...   \n",
       "3  1438204964669513728               @macworld iPhone 13 NEEDED Touch ID!   \n",
       "4  1438204931094106113  Apple launched the new iPhone 13 mini on 14th ...   \n",
       "\n",
       "                                         clean_tweet  Compound  Negative  \\\n",
       "0                                             expect    0.0000     0.000   \n",
       "1                  abbietayo pretty stress much  btw    0.2714     0.142   \n",
       "2        versus  performance comparison miss keynote   -0.2960     0.180   \n",
       "3                            macworld  need touch id    0.0000     0.000   \n",
       "4   launch new  mini th september california even...    0.1280     0.000   \n",
       "\n",
       "   Neutral  Positive  \n",
       "0    1.000     0.000  \n",
       "1    0.651     0.207  \n",
       "2    0.820     0.000  \n",
       "3    1.000     0.000  \n",
       "4    0.939     0.061  "
      ]
     },
     "metadata": {},
     "execution_count": 9
    }
   ],
   "metadata": {}
  },
  {
   "cell_type": "code",
   "execution_count": 10,
   "source": [
    "sentiment = []\r\n",
    "\r\n",
    "for i in range(len(df)):\r\n",
    "  if (df['Compound'][i] < 0):\r\n",
    "    sentiment.append(\"Negative\")\r\n",
    "  elif (df['Compound'][i] > 0):\r\n",
    "    sentiment.append(\"Positive\")\r\n",
    "  else:\r\n",
    "    sentiment.append(\"Neutral\")\r\n",
    "    \r\n",
    "sentiment = pd.DataFrame(sentiment)\r\n",
    "df['Sentiment'] = sentiment\r\n",
    "df.head()"
   ],
   "outputs": [
    {
     "output_type": "execute_result",
     "data": {
      "text/html": [
       "<div>\n",
       "<style scoped>\n",
       "    .dataframe tbody tr th:only-of-type {\n",
       "        vertical-align: middle;\n",
       "    }\n",
       "\n",
       "    .dataframe tbody tr th {\n",
       "        vertical-align: top;\n",
       "    }\n",
       "\n",
       "    .dataframe thead th {\n",
       "        text-align: right;\n",
       "    }\n",
       "</style>\n",
       "<table border=\"1\" class=\"dataframe\">\n",
       "  <thead>\n",
       "    <tr style=\"text-align: right;\">\n",
       "      <th></th>\n",
       "      <th>id</th>\n",
       "      <th>tweet</th>\n",
       "      <th>clean_tweet</th>\n",
       "      <th>Compound</th>\n",
       "      <th>Negative</th>\n",
       "      <th>Neutral</th>\n",
       "      <th>Positive</th>\n",
       "      <th>Sentiment</th>\n",
       "    </tr>\n",
       "  </thead>\n",
       "  <tbody>\n",
       "    <tr>\n",
       "      <th>0</th>\n",
       "      <td>1438205036262268939</td>\n",
       "      <td>iPhone 13😑😑I expected more</td>\n",
       "      <td>expect</td>\n",
       "      <td>0.0000</td>\n",
       "      <td>0.000</td>\n",
       "      <td>1.000</td>\n",
       "      <td>0.000</td>\n",
       "      <td>Neutral</td>\n",
       "    </tr>\n",
       "    <tr>\n",
       "      <th>1</th>\n",
       "      <td>1438204990389211139</td>\n",
       "      <td>@abbietayo You too pretty to be stressed. How ...</td>\n",
       "      <td>abbietayo pretty stress much  btw</td>\n",
       "      <td>0.2714</td>\n",
       "      <td>0.142</td>\n",
       "      <td>0.651</td>\n",
       "      <td>0.207</td>\n",
       "      <td>Positive</td>\n",
       "    </tr>\n",
       "    <tr>\n",
       "      <th>2</th>\n",
       "      <td>1438204983892013056</td>\n",
       "      <td>iPhone 13 versus iPhone 12 performance compari...</td>\n",
       "      <td>versus  performance comparison miss keynote</td>\n",
       "      <td>-0.2960</td>\n",
       "      <td>0.180</td>\n",
       "      <td>0.820</td>\n",
       "      <td>0.000</td>\n",
       "      <td>Negative</td>\n",
       "    </tr>\n",
       "    <tr>\n",
       "      <th>3</th>\n",
       "      <td>1438204964669513728</td>\n",
       "      <td>@macworld iPhone 13 NEEDED Touch ID!</td>\n",
       "      <td>macworld  need touch id</td>\n",
       "      <td>0.0000</td>\n",
       "      <td>0.000</td>\n",
       "      <td>1.000</td>\n",
       "      <td>0.000</td>\n",
       "      <td>Neutral</td>\n",
       "    </tr>\n",
       "    <tr>\n",
       "      <th>4</th>\n",
       "      <td>1438204931094106113</td>\n",
       "      <td>Apple launched the new iPhone 13 mini on 14th ...</td>\n",
       "      <td>launch new  mini th september california even...</td>\n",
       "      <td>0.1280</td>\n",
       "      <td>0.000</td>\n",
       "      <td>0.939</td>\n",
       "      <td>0.061</td>\n",
       "      <td>Positive</td>\n",
       "    </tr>\n",
       "  </tbody>\n",
       "</table>\n",
       "</div>"
      ],
      "text/plain": [
       "                    id                                              tweet  \\\n",
       "0  1438205036262268939                         iPhone 13😑😑I expected more   \n",
       "1  1438204990389211139  @abbietayo You too pretty to be stressed. How ...   \n",
       "2  1438204983892013056  iPhone 13 versus iPhone 12 performance compari...   \n",
       "3  1438204964669513728               @macworld iPhone 13 NEEDED Touch ID!   \n",
       "4  1438204931094106113  Apple launched the new iPhone 13 mini on 14th ...   \n",
       "\n",
       "                                         clean_tweet  Compound  Negative  \\\n",
       "0                                             expect    0.0000     0.000   \n",
       "1                  abbietayo pretty stress much  btw    0.2714     0.142   \n",
       "2        versus  performance comparison miss keynote   -0.2960     0.180   \n",
       "3                            macworld  need touch id    0.0000     0.000   \n",
       "4   launch new  mini th september california even...    0.1280     0.000   \n",
       "\n",
       "   Neutral  Positive Sentiment  \n",
       "0    1.000     0.000   Neutral  \n",
       "1    0.651     0.207  Positive  \n",
       "2    0.820     0.000  Negative  \n",
       "3    1.000     0.000   Neutral  \n",
       "4    0.939     0.061  Positive  "
      ]
     },
     "metadata": {},
     "execution_count": 10
    }
   ],
   "metadata": {}
  },
  {
   "cell_type": "code",
   "execution_count": null,
   "source": [],
   "outputs": [],
   "metadata": {}
  },
  {
   "cell_type": "code",
   "execution_count": null,
   "source": [],
   "outputs": [],
   "metadata": {}
  }
 ],
 "metadata": {
  "orig_nbformat": 4,
  "language_info": {
   "name": "python",
   "version": "3.8.8",
   "mimetype": "text/x-python",
   "codemirror_mode": {
    "name": "ipython",
    "version": 3
   },
   "pygments_lexer": "ipython3",
   "nbconvert_exporter": "python",
   "file_extension": ".py"
  },
  "kernelspec": {
   "name": "python3",
   "display_name": "Python 3.8.8 64-bit ('base': conda)"
  },
  "interpreter": {
   "hash": "89604f32a09a23093b8c29c6d78b3ad49d7a5901c07f2c5c9e08432c33627854"
  }
 },
 "nbformat": 4,
 "nbformat_minor": 2
}